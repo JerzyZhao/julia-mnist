{
 "cells": [
  {
   "cell_type": "code",
   "execution_count": 1,
   "metadata": {
    "collapsed": true
   },
   "outputs": [],
   "source": [
    "using Distributions\n",
    "using DelimitedFiles\n",
    "using LinearAlgebra"
   ]
  },
  {
   "cell_type": "code",
   "execution_count": 2,
   "metadata": {},
   "outputs": [
    {
     "data": {
      "text/plain": [
       "sigmoid (generic function with 1 method)"
      ]
     },
     "execution_count": 2,
     "metadata": {},
     "output_type": "execute_result"
    }
   ],
   "source": [
    "# Activation function\n",
    "sigmoid(x) = 1 / (1 + exp(-x))"
   ]
  },
  {
   "cell_type": "code",
   "execution_count": 3,
   "metadata": {
    "collapsed": true
   },
   "outputs": [],
   "source": [
    "mutable struct NetInfo\n",
    "    # Input Layer, Hidden Layer and Output Layer nodes numbers\n",
    "    inodes::Int\n",
    "    hnodes::Int\n",
    "    onodes::Int\n",
    "\n",
    "    # Link weight matrix\n",
    "    wih::Array{Float64, 2} # from input layer to hidden layer\n",
    "    who::Array{Float64, 2} # from hidden layer to output layer\n",
    "    \n",
    "    # learning rate\n",
    "    lr::Float64\n",
    "end"
   ]
  },
  {
   "cell_type": "code",
   "execution_count": 4,
   "metadata": {},
   "outputs": [
    {
     "data": {
      "text/plain": [
       "InitNet (generic function with 1 method)"
      ]
     },
     "execution_count": 4,
     "metadata": {},
     "output_type": "execute_result"
    }
   ],
   "source": [
    "# Factory method - Init Net\n",
    "function InitNet(inodes::Int, hnodes::Int, onodes::Int, lr::Float64)\n",
    "    wih = rand(Normal(0, hnodes^(-0.5)), hnodes, inodes)\n",
    "    who = rand(Normal(0, onodes^(-0.5)), onodes, hnodes)\n",
    "    return NetInfo(inodes, hnodes, onodes, wih, who, lr)\n",
    "end"
   ]
  },
  {
   "cell_type": "code",
   "execution_count": 5,
   "metadata": {},
   "outputs": [
    {
     "data": {
      "text/plain": [
       "Query (generic function with 1 method)"
      ]
     },
     "execution_count": 5,
     "metadata": {},
     "output_type": "execute_result"
    }
   ],
   "source": [
    "# Query Result\n",
    "function Query(net::NetInfo, inputs::Array{Float64, 2})\n",
    "    # Calculate the signal entering the hidden layer\n",
    "    hidden_inputs = net.wih * inputs\n",
    "    hidden_outputs = sigmoid.(hidden_inputs)\n",
    "    \n",
    "    # Calculate the signal entering the output layer\n",
    "    final_inputs = net.who * hidden_outputs\n",
    "    final_outputs = sigmoid.(final_inputs)\n",
    "    \n",
    "    return final_outputs\n",
    "end"
   ]
  },
  {
   "cell_type": "code",
   "execution_count": 6,
   "metadata": {},
   "outputs": [
    {
     "data": {
      "text/plain": [
       "Train! (generic function with 1 method)"
      ]
     },
     "execution_count": 6,
     "metadata": {},
     "output_type": "execute_result"
    }
   ],
   "source": [
    "function Train!(net::NetInfo, inputs::Array{Float64, 2}, targets::Array{Float64, 2})\n",
    "    # PART 1: Consistent with the Query function\n",
    "    # Calculate the signal entering the hidden layer\n",
    "    hidden_inputs = net.wih * inputs\n",
    "    hidden_outputs = sigmoid.(hidden_inputs)\n",
    "    \n",
    "    # Calculate the signal entering the output layer\n",
    "    final_inputs = net.who * hidden_outputs\n",
    "    final_outputs = sigmoid.(final_inputs)\n",
    "    \n",
    "    # PART 2：Compare the resulting output with the desired output to guide the update of network weights\n",
    "    # Output layer error = (target - actual)\n",
    "    output_errors = targets - final_outputs\n",
    "    hidden_errors = net.who' * output_errors\n",
    "        \n",
    "    net.who += net.lr .* (output_errors .* final_outputs .* (1.0 .- final_outputs)) * hidden_outputs'\n",
    "    net.wih += net.lr .* (hidden_errors .* hidden_outputs .* (1.0 .- hidden_outputs)) * inputs'\n",
    "end"
   ]
  },
  {
   "cell_type": "code",
   "execution_count": 7,
   "metadata": {},
   "outputs": [
    {
     "data": {
      "text/plain": [
       "5"
      ]
     },
     "execution_count": 7,
     "metadata": {},
     "output_type": "execute_result"
    }
   ],
   "source": [
    "# parameters\n",
    "input_nodes = 784\n",
    "hidden_nodes = 200\n",
    "output_nodes = 10\n",
    "learning_rate = 0.1\n",
    "epochs = 5"
   ]
  },
  {
   "cell_type": "code",
   "execution_count": 8,
   "metadata": {
    "collapsed": true
   },
   "outputs": [],
   "source": [
    "net_test = InitNet(input_nodes, input_nodes, output_nodes, learning_rate);"
   ]
  },
  {
   "cell_type": "code",
   "execution_count": 9,
   "metadata": {
    "collapsed": true
   },
   "outputs": [],
   "source": [
    "# import training set\n",
    "training_data_file = readdlm(\"mnist_dataset/mnist_train.csv\", ',');"
   ]
  },
  {
   "cell_type": "code",
   "execution_count": 10,
   "metadata": {
    "collapsed": true
   },
   "outputs": [],
   "source": [
    "# import test set\n",
    "test_data_file = readdlm(\"mnist_dataset/mnist_test.csv\", ',');"
   ]
  },
  {
   "cell_type": "code",
   "execution_count": 11,
   "metadata": {},
   "outputs": [
    {
     "data": {
      "text/plain": [
       "10000"
      ]
     },
     "execution_count": 11,
     "metadata": {},
     "output_type": "execute_result"
    }
   ],
   "source": [
    "# data sets size\n",
    "train_data_size = 60000\n",
    "test_data_size = 10000"
   ]
  },
  {
   "cell_type": "code",
   "execution_count": 12,
   "metadata": {},
   "outputs": [
    {
     "name": "stdout",
     "output_type": "stream",
     "text": [
      "1632.161741 seconds (11.99 M allocations: 2.729 TiB, 21.20% gc time)\n"
     ]
    }
   ],
   "source": [
    "epochs = 5\n",
    "# Cycle training\n",
    "@time for e = 1:epochs\n",
    "    # Training neural network\n",
    "    for record = 1:train_data_size\n",
    "        inputs = (training_data_file[record, 2:end] ./ 255.0 .* 0.99) .+ 0.01\n",
    "        inputs = reshape(inputs, input_nodes, 1) # Adjustment dimension\n",
    "        targets = zeros(output_nodes) .+ 0.01\n",
    "        targets[round(Int, training_data_file[record, 1]) + 1] = 0.99\n",
    "        targets = reshape(targets, 10, 1)\n",
    "        \n",
    "        Train!(net_test, inputs, targets)\n",
    "    end\n",
    "end"
   ]
  },
  {
   "cell_type": "code",
   "execution_count": 15,
   "metadata": {
    "collapsed": true
   },
   "outputs": [],
   "source": [
    "# Effect test\n",
    "scorecard = []\n",
    "\n",
    "for record = 1:test_data_size\n",
    "    correct_label = Int(test_data_file[record, 1])\n",
    "    inputs = (test_data_file[record, 2:end] ./ 255.0 .* 0.99) .+ 0.01\n",
    "    inputs = reshape(inputs, input_nodes, 1) # Adjustment dimension\n",
    "    \n",
    "    outputs = Query(net_test, inputs)\n",
    "    label = findmax(outputs)[2][1]\n",
    "    if (label - 1 == correct_label)\n",
    "        append!(scorecard, 1)\n",
    "    else\n",
    "        append!(scorecard, 0)\n",
    "    end\n",
    "end"
   ]
  },
  {
   "cell_type": "code",
   "execution_count": 16,
   "metadata": {},
   "outputs": [
    {
     "name": "stdout",
     "output_type": "stream",
     "text": [
      "performance = 0.9749"
     ]
    }
   ],
   "source": [
    "# Accuracy\n",
    "print(\"performance = \", sum(scorecard) / length(scorecard))"
   ]
  }
 ],
 "metadata": {
  "kernelspec": {
   "display_name": "Julia 1.0.2",
   "language": "julia",
   "name": "julia-1.0"
  },
  "language_info": {
   "file_extension": ".jl",
   "mimetype": "application/julia",
   "name": "julia",
   "version": "1.0.2"
  }
 },
 "nbformat": 4,
 "nbformat_minor": 2
}
